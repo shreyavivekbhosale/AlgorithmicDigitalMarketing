{
 "cells": [
  {
   "cell_type": "code",
   "execution_count": 1,
   "id": "e4ebf646-8dbd-456c-97e1-68c8aeb4627a",
   "metadata": {},
   "outputs": [],
   "source": [
    "#TripAdvisor Reviews Scraping\n"
   ]
  },
  {
   "cell_type": "code",
   "execution_count": null,
   "id": "23376d49-9355-41e8-b5c7-736ef96bc0a9",
   "metadata": {},
   "outputs": [],
   "source": []
  },
  {
   "cell_type": "code",
   "execution_count": 30,
   "id": "68561343-2f77-448a-b47f-3c8342d4a517",
   "metadata": {},
   "outputs": [
    {
     "name": "stderr",
     "output_type": "stream",
     "text": [
      "<ipython-input-30-d2c1705913d7>:24: DeprecationWarning: executable_path has been deprecated, please pass in a Service object\n",
      "  driver = webdriver.Chrome(\"/Users/harooniqbal/Downloads/chromedriver\")\n",
      "<ipython-input-30-d2c1705913d7>:40: DeprecationWarning: find_element_by_* commands are deprecated. Please use find_element() instead\n",
      "  container = driver.find_element_by_xpath(\"//div[@class='cWwQK MC R2 Gi z Z BB dXjiy']\")\n",
      "<ipython-input-30-d2c1705913d7>:53: DeprecationWarning: find_element_by_* commands are deprecated. Please use find_element() instead\n",
      "  driver.find_element_by_xpath('.//a[@class=\"ui_button nav next primary \"]').click()\n"
     ]
    }
   ],
   "source": [
    "import sys\n",
    "import csv\n",
    "from selenium import webdriver\n",
    "import time\n",
    "\n",
    "# default path to file to store data\n",
    "path_to_file = \"/Users/harooniqbal/Desktop/new/NEU_SushmithaJogula/Semester3/ADM/reviews_scraped.csv\"\n",
    "\n",
    "# default number of scraped pages\n",
    "num_page = 80\n",
    "\n",
    "# default tripadvisor website of restaurant\n",
    "url = \"https://www.tripadvisor.com/Hotel_Review-g60745-d6485213-Reviews-The_Verb_Hotel-Boston_Massachusetts.html\"\n",
    "\n",
    "# if you pass the inputs in the command line\n",
    "if (len(sys.argv) == 4):\n",
    "    path_to_file = sys.argv[1]\n",
    "    num_page = int(sys.argv[2])\n",
    "    url = sys.argv[3]\n",
    "\n",
    "# Import the webdriver\n",
    "#link = \"https://accounts.google.com\"\n",
    "#driver = webdriver.Chrome(executable_path='/Users/harooniqbal/node_modules/chromedriver')\n",
    "driver = webdriver.Chrome(\"/Users/harooniqbal/Downloads/chromedriver\")\n",
    "#driver.get(link)\n",
    "\n",
    "driver.get(url)\n",
    "\n",
    "# Open the file to save the review\n",
    "csvFile = open(path_to_file, 'a', encoding=\"utf-8\")\n",
    "csvWriter = csv.writer(csvFile)\n",
    "\n",
    "# change the value inside the range to save more or less reviews\n",
    "for i in range(0, num_page):\n",
    "    \n",
    "    # expand the review \n",
    "    time.sleep(2)\n",
    "    #driver.find_element_by_xpath(\"//span[@class='eljVo _S Z']\").click()\n",
    "\n",
    "    container = driver.find_element_by_xpath(\"//div[@class='cWwQK MC R2 Gi z Z BB dXjiy']\")\n",
    "\n",
    "    #for j in range(len(container)):\n",
    "\n",
    "    title = container.find_element_by_xpath(\".//a[@class='fCitC']/span\").text\n",
    "    user_name = container.find_element_by_xpath(\".//div[@class='bcaHz']/span[1]/a[1]\").text\n",
    "    date_of_stay = (container.find_element_by_xpath(\".//span[@class='euPKI _R Me S4 H3']\").text)[14:]\n",
    "    rating = container.find_element_by_xpath(\".//span[contains(@class, 'ui_bubble_rating bubble_')]\").get_attribute(\"class\").split(\"_\")[3][:-1]\n",
    "    review = container.find_element_by_xpath(\"//q[@class='XllAv H4 _a']/span\").text\n",
    "    \n",
    "    csvWriter.writerow([rating, title, review, user_name, date_of_stay]) \n",
    "\n",
    "    # change the page\n",
    "    driver.find_element_by_xpath('.//a[@class=\"ui_button nav next primary \"]').click()\n",
    "\n",
    "driver.close()"
   ]
  },
  {
   "cell_type": "code",
   "execution_count": null,
   "id": "72484cb3-c7ff-4603-8442-fddfe50cbfa0",
   "metadata": {},
   "outputs": [],
   "source": []
  },
  {
   "cell_type": "code",
   "execution_count": null,
   "id": "5530df13-de2a-40d2-871b-e231aaaeb316",
   "metadata": {},
   "outputs": [],
   "source": []
  }
 ],
 "metadata": {
  "kernelspec": {
   "display_name": "Python 3",
   "language": "python",
   "name": "python3"
  },
  "language_info": {
   "codemirror_mode": {
    "name": "ipython",
    "version": 3
   },
   "file_extension": ".py",
   "mimetype": "text/x-python",
   "name": "python",
   "nbconvert_exporter": "python",
   "pygments_lexer": "ipython3",
   "version": "3.8.8"
  }
 },
 "nbformat": 4,
 "nbformat_minor": 5
}
